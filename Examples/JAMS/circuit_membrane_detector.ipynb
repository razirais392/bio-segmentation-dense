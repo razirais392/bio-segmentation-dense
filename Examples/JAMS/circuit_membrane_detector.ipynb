{
 "cells": [
  {
   "cell_type": "markdown",
   "metadata": {},
   "source": [
    "This is a quick example showing how to use the code with the ISBI 2012 data set.\n",
    "\n",
    "Note that the sample weights provided here are *not* the best possible - for best results one would want to train for longer."
   ]
  },
  {
   "cell_type": "code",
   "execution_count": null,
   "metadata": {
    "collapsed": false
   },
   "outputs": [],
   "source": [
    "%matplotlib inline\n",
    "%load_ext autoreload\n",
    "%autoreload 2\n",
    "\n",
    "import os, sys, time\n",
    "from socket import gethostname\n",
    "\n",
    "import numpy as np\n",
    "import pylab as plt\n",
    "import matplotlib.gridspec as gridspec\n",
    "import SimpleITK as sitk #you will need to install the simpleitk package on your computer\n",
    "\n",
    "np.random.seed(9999)\n",
    "\n",
    "import keras #keras and tensorflow need to be at the most current version, or it might not work\n",
    "from keras import backend as K\n",
    "from keras.models import load_model\n",
    "\n",
    "sys.path.append('../..')\n",
    "from cnn_tools import *\n",
    "from data_tools import *\n",
    "\n",
    "\n",
    "K.set_image_dim_ordering('th')\n",
    "\n",
    "print('Using Keras version: %s' % keras.__version__)"
   ]
  },
  {
   "cell_type": "code",
   "execution_count": null,
   "metadata": {
    "collapsed": false,
    "scrolled": true
   },
   "outputs": [],
   "source": [
    "# load data\n",
    "isbi_dir = os.path.expanduser('~/CIRCUIT/team1/completed/1605') #this is the path to the folder with your niftii data\n",
    "\n",
    "test_nii = sitk.ReadImage(os.path.join(isbi_dir, 'team1_waypoint_201610_full_May6_25k_201610_dataset_em_1695.nii.gz'))\n",
    "test_nii = sitk.Cast(test_nii, sitk.sitkUInt8)\n",
    "X_test = sitk.GetArrayFromImage(test_nii) #converts image to array\n",
    "X_test = X_test / 255. #scales array values\n",
    "X_test = np.expand_dims(X_test, axis=1) #adds the color channel dimension to array\n",
    "\n",
    "train_nii = sitk.ReadImage(os.path.join(isbi_dir, 'team1_waypoint_201610_full_May6_25k_201610_dataset_em_1640.nii.gz'))\n",
    "train_nii = sitk.Cast(train_nii, sitk.sitkUInt8)\n",
    "X_train = sitk.GetArrayFromImage(train_nii)\n",
    "X_train = X_train / 255.\n",
    "X_train = np.expand_dims(X_train, axis=1)\n",
    "\n",
    "\n",
    "label_nii = sitk.ReadImage(os.path.join(isbi_dir, 'team1_waypoint_201610_full_May6_25k_201610_dataset_em_1640_mem.nii.gz'))\n",
    "label_nii = sitk.Cast(label_nii, sitk.sitkUInt8)\n",
    "Y_train = sitk.GetArrayFromImage(label_nii)\n",
    "Y_train[Y_train==255] = 1\n",
    "Y_train = np.expand_dims(Y_train, axis=1)\n",
    "\n",
    "\n",
    "print('[info]: test data has shape:     ', X_test.shape)\n",
    "print('[info]: train data has shape:     ', X_train.shape)\n",
    "\n",
    "# load model\n",
    "model = create_unet((1, 256, 256))\n",
    "model.load_weights('./U-Net_weights_epoch0003.hdf5')\n",
    "\n",
    "print('[info]: model input shape: ', model.input_shape)"
   ]
  },
  {
   "cell_type": "code",
   "execution_count": null,
   "metadata": {
    "collapsed": false
   },
   "outputs": [],
   "source": [
    "# deploy on test data\n",
    "tic = time.time()\n",
    "\n",
    "Y_hat_test = deploy_model(X_test, model, two_pass=True)\n",
    "\n",
    "print('[info]: total time to deploy on system \"%s\": %0.2f sec' % (gethostname(), (time.time() - tic)))\n",
    "print('[info]: Y_hat shape: ', Y_hat_test.shape)"
   ]
  },
  {
   "cell_type": "code",
   "execution_count": null,
   "metadata": {
    "collapsed": false
   },
   "outputs": [],
   "source": [
    "# visualize performance on test data\n",
    "# Note: ISBI does not make truth available for test data.\n",
    "\n",
    "for z in [0, 1, 2, 3, 4]:\n",
    "    plt.figure(figsize=(8,8))\n",
    "    plt.subplot(1,3,1)\n",
    "    plt.imshow(X_test[z,0,...], cmap='bone'); plt.axis('off')\n",
    "    plt.title('x[%d]' % z)\n",
    "    plt.subplot(1,3,2)\n",
    "    plt.imshow(Y_hat_test[z,0,...], cmap='magma'); plt.axis('off')\n",
    "    plt.title('class 0 est')\n",
    "    plt.subplot(1,3,3)\n",
    "    plt.imshow(Y_hat_test[z,1,...], cmap='magma'); plt.axis('off')\n",
    "    plt.title('class 1 est')\n",
    "    plt.show()\n",
    "    \n",
    "# make sure the classification layers are as expected\n",
    "net0 = Y_hat_test[0,0,...] + Y_hat_test[0,1,...]\n",
    "\n",
    "plt.figure()\n",
    "plt.hist(net0.flatten())\n",
    "plt.xlim((.98, 1.02))\n",
    "\n",
    "print(np.mean(net0))\n",
    "print(np.std(net0))\n"
   ]
  },
  {
   "cell_type": "code",
   "execution_count": null,
   "metadata": {
    "collapsed": false
   },
   "outputs": [],
   "source": [
    "# deploy on train data\n",
    "tic = time.time()\n",
    "Y_hat_train = deploy_model(X_train, model)\n",
    "Y_hat_train_2 = deploy_model(X_train, model, two_pass=True)\n",
    "print('[info]: total time to deploy on system \"%s\": %0.2f sec' % (gethostname(), (time.time() - tic)))\n",
    "print('[info]: Y_hat shape: ', Y_hat_train.shape)"
   ]
  },
  {
   "cell_type": "code",
   "execution_count": null,
   "metadata": {
    "collapsed": false
   },
   "outputs": [],
   "source": [
    "# also take a quick look at some training data\n",
    "\n",
    "for z in [0,1,2,3,4]:\n",
    "    plt.figure(figsize=(40,16))\n",
    "    \n",
    "    plt.subplot(2,4,1)\n",
    "    plt.imshow(X_train[z,0,...], cmap='bone'); plt.axis('off')\n",
    "    \n",
    "    plt.subplot(2,4,2)\n",
    "    plt.imshow(1-Y_train[z,0,...], cmap='magma'); plt.axis('off')\n",
    "    plt.title('y_train[%d]' % z)\n",
    "    \n",
    "    plt.subplot(2,4,3)\n",
    "    plt.imshow(Y_hat_train[z,1,...], cmap='magma'); plt.axis('off')\n",
    "    plt.title('y_hat[%d]' % z)\n",
    "    \n",
    "    plt.subplot(2,4,4)\n",
    "    plt.imshow(np.abs(Y_hat_train[z,1,...] - (1-Y_train[z,0,...])), cmap='jet'); plt.axis('off')\n",
    "    plt.title('err[%d]' % z)\n",
    "    \n",
    "    plt.subplot(2,4,7)\n",
    "    plt.imshow(Y_hat_train_2[z,1,...], cmap='magma'); plt.axis('off')\n",
    "    \n",
    "    plt.subplot(2,4,8)\n",
    "    plt.imshow(np.abs(Y_hat_train_2[z,1,...] - (1-Y_train[z,0,...])), cmap='jet'); plt.axis('off')\n",
    "    plt.title('err2')\n",
    "    \n",
    "    plt.subplots_adjust(wspace=0.05, hspace=.05)\n",
    "    plt.show();"
   ]
  },
  {
   "cell_type": "code",
   "execution_count": null,
   "metadata": {
    "collapsed": true
   },
   "outputs": [],
   "source": [
    "    "
   ]
  }
 ],
 "metadata": {
  "anaconda-cloud": {},
  "kernelspec": {
   "display_name": "Python 2",
   "language": "python",
   "name": "python2"
  },
  "language_info": {
   "codemirror_mode": {
    "name": "ipython",
    "version": 2
   },
   "file_extension": ".py",
   "mimetype": "text/x-python",
   "name": "python",
   "nbconvert_exporter": "python",
   "pygments_lexer": "ipython2",
   "version": "2.7.12"
  }
 },
 "nbformat": 4,
 "nbformat_minor": 0
}
