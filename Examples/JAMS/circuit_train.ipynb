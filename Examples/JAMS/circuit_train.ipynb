{
 "cells": [
  {
   "cell_type": "code",
   "execution_count": null,
   "metadata": {
    "collapsed": false
   },
   "outputs": [],
   "source": [
    "\"\"\"\n",
    "   Trains a dense (per-pixel) classifier on the ISBI 2012 data set.\n",
    "\n",
    "   http://brainiac2.mit.edu/isbi_challenge/\n",
    "\"\"\"\n",
    "\n",
    "from __future__ import print_function\n",
    "\n",
    "__author__ = 'mjp, Nov 2016'\n",
    "__license__ = 'Apache 2.0'\n",
    "\n",
    "\n",
    "import os, sys, time\n",
    "\n",
    "import numpy as np\n",
    "\n",
    "np.random.seed(9999)\n",
    "\n",
    "import keras\n",
    "from keras import backend as K\n",
    "\n",
    "import SimpleITK as sitk\n",
    "\n",
    "sys.path.append('../..')\n",
    "from cnn_tools import *\n",
    "from data_tools import *"
   ]
  },
  {
   "cell_type": "code",
   "execution_count": null,
   "metadata": {
    "collapsed": false
   },
   "outputs": [],
   "source": [
    "    if __name__ == '__main__':\n",
    "        K.set_image_dim_ordering('th')\n",
    "        tile_size = (256, 256)\n",
    "\n",
    "        # load raw data\n",
    "        isbi_dir = os.path.expanduser('~/CIRCUIT/team1/completed/1605')\n",
    "\n",
    "        train_nii = sitk.ReadImage(os.path.join(isbi_dir, 'team1_waypoint_201610_full_May6_25k_201610_dataset_em_1640.nii.gz'))\n",
    "        X_train = sitk.GetArrayFromImage(train_nii)\n",
    "        X_train = X_train.astype(np.float32)\n",
    "        X_train = X_train / 255.\n",
    "        X_train = np.expand_dims(X_train, axis=1)\n",
    "\n",
    "\n",
    "        mem_nii = sitk.ReadImage(os.path.join(isbi_dir, 'team1_waypoint_201610_full_May6_25k_201610_dataset_em_1640_mem.nii.gz'))\n",
    "        Y_train = sitk.GetArrayFromImage(mem_nii)\n",
    "        Y_train = Y_train.astype(np.float32)\n",
    "        Y_train[Y_train==255] = 1\n",
    "        Y_train = np.expand_dims(Y_train, axis=1)\n",
    "\n",
    "\n",
    "        # valid_nii = sitk.ReadImage(os.path.join(isbi_dir, 'team1_waypoint_201610_full_May6_25k_201610_dataset_em_1750.nii.gz'))\n",
    "        # X_valid = sitk.GetArrayFromImage(valid_nii)\n",
    "        # X_valid= X_valid.astype(np.float32)\n",
    "        # X_valid = X_valid / 255.\n",
    "        # X_valid = np.expand_dims(X_valid, axis=1)\n",
    "\n",
    "        #mem_nii2 = sitk.ReadImage(os.path.join(isbi_dir, 'team1_waypoint_201610_full_May6_25k_201610_dataset_em_1750_mem.nii.gz'))\n",
    "        #Y_valid = sitk.GetArrayFromImage(mem_nii2)\n",
    "        #Y_valid= Y_valid.astype(np.float32)\n",
    "        #Y_valid[Y_valid==255] = 1\n",
    "        #Y_valid = np.expand_dims(Y_valid, axis=1)\n",
    "\n",
    "\n",
    "        # TODO: normalize image data?\n",
    "        Y_train = 1 - Y_train / 255.  # map to [0 1] and make 1 := membrane\n",
    "        Y_train = Y_train.astype(np.int32)\n",
    "        Y_train = 1 - Y_train"
   ]
  },
  {
   "cell_type": "code",
   "execution_count": null,
   "metadata": {
    "collapsed": false
   },
   "outputs": [],
   "source": [
    "    # split into train and valid\n",
    "    train_slices = range(3)\n",
    "    valid_slices = range(3,5)\n",
    "    X_valid = X_train[valid_slices,...]\n",
    "    Y_valid = Y_train[valid_slices,...]\n",
    "    X_train = X_train[train_slices,...]\n",
    "    Y_train = Y_train[train_slices,...]\n",
    "\n",
    "    print('[info]: using Keras version:         %s' % str(keras.__version__))\n",
    "    print('[info]: using backend:               %s' % str(K._BACKEND))\n",
    "    print('[info]: training data has shape:     %s' % str(X_train.shape))\n",
    "    print('[info]: training labels has shape:   %s' % str(Y_train.shape))\n",
    "    print('[info]: validation data has shape:   %s' % str(X_valid.shape))\n",
    "    print('[info]: validation labels has shape: %s' % str(Y_valid.shape))\n",
    "    print('[info]: tile size:                   %s' % str(tile_size))   "
   ]
  },
  {
   "cell_type": "code",
   "execution_count": null,
   "metadata": {
    "collapsed": false
   },
   "outputs": [],
   "source": [
    "for z in [0,1,2]:\n",
    "    plt.figure(figsize=(40,16))\n",
    "    \n",
    "    plt.subplot(2,4,1)\n",
    "    plt.imshow(X_train[z,0,...], cmap='bone'); plt.axis('off')\n",
    "    \n",
    "    plt.subplot(2,4,2)\n",
    "    plt.imshow(Y_train[z,0,...], cmap='magma'); plt.axis('off')\n",
    "    plt.title('y_train[%d]' % z)\n",
    "    \n",
    "    plt.show()"
   ]
  },
  {
   "cell_type": "code",
   "execution_count": null,
   "metadata": {
    "collapsed": false,
    "scrolled": true
   },
   "outputs": [],
   "source": [
    "    # train model\n",
    "    tic = time.time()\n",
    "    model = create_unet((1, tile_size[0], tile_size[1]))\n",
    "    train_model(X_train, Y_train, X_valid, Y_valid, model,\n",
    "                n_epochs=4, mb_size=5, n_mb_per_epoch=3)\n",
    "\n",
    "    print('[info]: total time to train model: %0.2f min' % ((time.time() - tic)/60.))"
   ]
  },
  {
   "cell_type": "code",
   "execution_count": null,
   "metadata": {
    "collapsed": true
   },
   "outputs": [],
   "source": []
  }
 ],
 "metadata": {
  "kernelspec": {
   "display_name": "Python 2",
   "language": "python",
   "name": "python2"
  },
  "language_info": {
   "codemirror_mode": {
    "name": "ipython",
    "version": 2
   },
   "file_extension": ".py",
   "mimetype": "text/x-python",
   "name": "python",
   "nbconvert_exporter": "python",
   "pygments_lexer": "ipython2",
   "version": "2.7.12"
  }
 },
 "nbformat": 4,
 "nbformat_minor": 2
}
